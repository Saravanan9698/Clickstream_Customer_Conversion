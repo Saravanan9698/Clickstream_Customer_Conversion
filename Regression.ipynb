{
 "cells": [
  {
   "cell_type": "code",
   "execution_count": 58,
   "metadata": {},
   "outputs": [],
   "source": [
    "import numpy as np\n",
    "import pandas as pd\n",
    "import seaborn as sns\n",
    "import matplotlib.pyplot as plt\n",
    "from sklearn.preprocessing import StandardScaler\n",
    "from sklearn.ensemble import GradientBoostingRegressor\n",
    "from sklearn.linear_model import LinearRegression, Ridge, Lasso\n",
    "from sklearn.model_selection import RandomizedSearchCV, train_test_split\n",
    "from sklearn.metrics import mean_squared_error, mean_absolute_error, r2_score, root_mean_squared_error\n",
    "from xgboost import XGBRegressor\n",
    "import pickle\n",
    "import os\n",
    "import warnings\n",
    "warnings.filterwarnings('ignore')"
   ]
  },
  {
   "cell_type": "code",
   "execution_count": 59,
   "metadata": {},
   "outputs": [
    {
     "name": "stdout",
     "output_type": "stream",
     "text": [
      "Columns in CSV: ['month', 'day', 'country', 'page1_main_category', 'colour', 'location', 'model_photography', 'page', 'avg_price', 'unique_products', 'browsing_depth', 'weekend', 'high_price_preference']\n",
      "Shape of data: (132379, 13)\n"
     ]
    }
   ],
   "source": [
    "# Load data\n",
    "\n",
    "file_path = r\"D:\\Projects\\Mini_Projects\\Clickstream_customer_conversion\\Research_Data\\processed_data.csv\"\n",
    "data = pd.read_csv(file_path)\n",
    "print(\"Columns in CSV:\", data.columns.tolist())\n",
    "print(\"Shape of data:\", data.shape)"
   ]
  },
  {
   "cell_type": "code",
   "execution_count": 60,
   "metadata": {},
   "outputs": [
    {
     "name": "stdout",
     "output_type": "stream",
     "text": [
      "Shape of val before feature selection: (132379, 12)\n"
     ]
    }
   ],
   "source": [
    "# Prepare features and target\n",
    "\n",
    "val = data.drop('avg_price', axis=1)\n",
    "tar = data['avg_price']\n",
    "print(\"Shape of val before feature selection:\", val.shape)"
   ]
  },
  {
   "cell_type": "code",
   "execution_count": 61,
   "metadata": {},
   "outputs": [
    {
     "name": "stdout",
     "output_type": "stream",
     "text": [
      "Selected features: ['high_price_preference', 'page1_main_category', 'browsing_depth', 'unique_products', 'model_photography', 'colour', 'location', 'page', 'country', 'weekend', 'month', 'day']\n",
      "Number of selected features: 12\n"
     ]
    }
   ],
   "source": [
    "# Feature selection with XGBRegressor\n",
    "\n",
    "fs = XGBRegressor(n_estimators=200, random_state=65)\n",
    "fs.fit(val, tar)\n",
    "selected = pd.DataFrame({\n",
    "    \"col\": val.columns,\n",
    "    \"sco\": fs.feature_importances_\n",
    "}).sort_values(\"sco\", ascending=False)[\"col\"].to_list()\n",
    "print(\"Selected features:\", selected)\n",
    "print(\"Number of selected features:\", len(selected))"
   ]
  },
  {
   "cell_type": "code",
   "execution_count": 62,
   "metadata": {},
   "outputs": [
    {
     "name": "stdout",
     "output_type": "stream",
     "text": [
      "Shape of val after feature selection: (132379, 12)\n"
     ]
    }
   ],
   "source": [
    "val = val[selected]\n",
    "print(\"Shape of val after feature selection:\", val.shape)"
   ]
  },
  {
   "cell_type": "code",
   "execution_count": 63,
   "metadata": {},
   "outputs": [
    {
     "name": "stdout",
     "output_type": "stream",
     "text": [
      "Shape of x_train before scaling: (105903, 12)\n",
      "Shape of x_test before scaling: (26476, 12)\n"
     ]
    }
   ],
   "source": [
    "# Train-test split\n",
    "\n",
    "x_train, x_test, tr_lab, ts_lab = train_test_split(val, tar, test_size=0.2, random_state=65)\n",
    "print(\"Shape of x_train before scaling:\", x_train.shape)\n",
    "print(\"Shape of x_test before scaling:\", x_test.shape)"
   ]
  },
  {
   "cell_type": "code",
   "execution_count": 64,
   "metadata": {},
   "outputs": [
    {
     "name": "stdout",
     "output_type": "stream",
     "text": [
      "Shape of x_train after scaling: (105903, 12)\n",
      "Shape of x_test after scaling: (26476, 12)\n"
     ]
    }
   ],
   "source": [
    "# Scale data\n",
    "\n",
    "scaler = StandardScaler()\n",
    "x_train = scaler.fit_transform(x_train)\n",
    "x_test = scaler.transform(x_test)\n",
    "print(\"Shape of x_train after scaling:\", x_train.shape)\n",
    "print(\"Shape of x_test after scaling:\", x_test.shape)"
   ]
  },
  {
   "cell_type": "markdown",
   "metadata": {},
   "source": [
    "# Linear Regression"
   ]
  },
  {
   "cell_type": "code",
   "execution_count": null,
   "metadata": {},
   "outputs": [],
   "source": [
    "# Model building functions\n",
    "\n",
    "def build_linear_regression(x_train, x_test, tr_lab, ts_lab):\n",
    "    print('\\n----------Building Linear Regression----------')\n",
    "    lr = LinearRegression()\n",
    "    lr.fit(x_train, tr_lab)\n",
    "    ts_pred = lr.predict(x_test)\n",
    "    rmse = root_mean_squared_error(ts_lab, ts_pred)\n",
    "    mse = mean_squared_error(ts_lab, ts_pred)\n",
    "    mae = mean_absolute_error(ts_lab, ts_pred)\n",
    "    r2 = r2_score(ts_lab, ts_pred)\n",
    "    print(f\"MSE: {mse:.4f}\")\n",
    "    print(f\"RMSE: {rmse:.4f}\")\n",
    "    print(f\"MAE: {mae:.4f}\")\n",
    "    print(f\"R2 Score: {r2:.4f}\")\n",
    "    return lr"
   ]
  },
  {
   "cell_type": "markdown",
   "metadata": {},
   "source": [
    "# Ridge Regression"
   ]
  },
  {
   "cell_type": "code",
   "execution_count": 66,
   "metadata": {},
   "outputs": [],
   "source": [
    "def build_ridge_regression(x_train, x_test, tr_lab, ts_lab):\n",
    "    print('\\n----------Building Ridge Regression----------')\n",
    "    param_grid = {\n",
    "        'alpha': [0.001, 0.01, 0.1, 1.0, 10.0, 100.0],\n",
    "        'max_iter': [1000, 2000]\n",
    "    }\n",
    "    ridge = Ridge(random_state=65)\n",
    "    random_search = RandomizedSearchCV(\n",
    "        ridge, param_grid, n_iter=20, cv=3, scoring='neg_mean_squared_error', n_jobs=1, verbose=1\n",
    "    )\n",
    "    random_search.fit(x_train, tr_lab)\n",
    "    best_model = random_search.best_estimator_\n",
    "    ts_pred = best_model.predict(x_test)\n",
    "    rmse = root_mean_squared_error(ts_lab, ts_pred)\n",
    "    mse = mean_squared_error(ts_lab, ts_pred)\n",
    "    mae = mean_absolute_error(ts_lab, ts_pred)\n",
    "    r2 = r2_score(ts_lab, ts_pred)\n",
    "    print(f\"Best Parameters: {random_search.best_params_}\")\n",
    "    print(f\"Best Cross-Validation Score (neg MSE): {random_search.best_score_:.4f}\")\n",
    "    print(f\"MSE: {mse:.4f}\")\n",
    "    print(f\"RMSE: {rmse:.4f}\")\n",
    "    print(f\"MAE: {mae:.4f}\")\n",
    "    print(f\"R2 Score: {r2:.4f}\")\n",
    "    return best_model"
   ]
  },
  {
   "cell_type": "markdown",
   "metadata": {},
   "source": [
    "# Lasso Regression"
   ]
  },
  {
   "cell_type": "code",
   "execution_count": null,
   "metadata": {},
   "outputs": [],
   "source": [
    "def build_lasso_regression(x_train, x_test, tr_lab, ts_lab):\n",
    "    print('\\n----------Building Lasso Regression----------')\n",
    "    param_grid = {\n",
    "        'alpha': [0.0001, 0.001, 0.01, 0.1, 1.0, 10.0],\n",
    "        'max_iter': [1000, 2000]\n",
    "    }\n",
    "    lasso = Lasso(random_state=65)\n",
    "    random_search = RandomizedSearchCV(\n",
    "        lasso, param_grid, n_iter=20, cv=3, scoring='neg_mean_squared_error', n_jobs=1, verbose=1\n",
    "    )\n",
    "    random_search.fit(x_train, tr_lab)\n",
    "    best_model = random_search.best_estimator_\n",
    "    ts_pred = best_model.predict(x_test)\n",
    "    rmse = root_mean_squared_error(ts_lab, ts_pred)\n",
    "    mse = mean_squared_error(ts_lab, ts_pred)\n",
    "    mae = mean_absolute_error(ts_lab, ts_pred)\n",
    "    r2 = r2_score(ts_lab, ts_pred)\n",
    "    print(f\"Best Parameters: {random_search.best_params_}\")\n",
    "    print(f\"Best Cross-Validation Score (neg MSE): {random_search.best_score_:.4f}\")\n",
    "    print(f\"MSE: {mse:.4f}\")\n",
    "    print(f\"RMSE: {rmse:.4f}\")\n",
    "    print(f\"MAE: {mae:.4f}\")\n",
    "    print(f\"R2 Score: {r2:.4f}\")\n",
    "    return best_model"
   ]
  },
  {
   "cell_type": "markdown",
   "metadata": {},
   "source": [
    "# Gradient Boosting Regression"
   ]
  },
  {
   "cell_type": "code",
   "execution_count": 68,
   "metadata": {},
   "outputs": [],
   "source": [
    "def build_gradient_boosting_regressor(x_train, x_test, tr_lab, ts_lab):\n",
    "    print('\\n----------Building Gradient Boosting Regression----------')\n",
    "    print(\"Shape of x_train in GradientBoosting:\", x_train.shape)\n",
    "    print(\"Shape of x_test in GradientBoosting:\", x_test.shape)\n",
    "    param_grid = {\n",
    "        'n_estimators': [100, 200, 300],\n",
    "        'learning_rate': [0.01, 0.05, 0.1, 0.2],\n",
    "        'max_depth': [3, 5, 7, 10],\n",
    "        'subsample': [0.7, 0.8, 1.0],\n",
    "        'min_samples_split': [2, 5, 10],\n",
    "        'min_samples_leaf': [1, 2, 4]\n",
    "    }\n",
    "    gbr = GradientBoostingRegressor(random_state=65, warm_start=True)\n",
    "    random_search = RandomizedSearchCV(\n",
    "        gbr, param_grid, n_iter=20, cv=3, scoring='neg_mean_squared_error', n_jobs=1, verbose=1\n",
    "    )\n",
    "    random_search.fit(x_train, tr_lab)\n",
    "    best_model = random_search.best_estimator_\n",
    "    ts_pred = best_model.predict(x_test)\n",
    "    rmse = root_mean_squared_error(ts_lab, ts_pred)\n",
    "    mse = mean_squared_error(ts_lab, ts_pred)\n",
    "    mae = mean_absolute_error(ts_lab, ts_pred)\n",
    "    r2 = r2_score(ts_lab, ts_pred)\n",
    "    print(f\"Best Parameters: {random_search.best_params_}\")\n",
    "    print(f\"Best Cross-Validation Score (neg MSE): {random_search.best_score_:.4f}\")\n",
    "    print(f\"MSE: {mse:.4f}\")\n",
    "    print(f\"RMSE: {rmse:.4f}\")\n",
    "    print(f\"MAE: {mae:.4f}\")\n",
    "    print(f\"R2 Score: {r2:.4f}\")\n",
    "    return best_model"
   ]
  },
  {
   "cell_type": "markdown",
   "metadata": {},
   "source": [
    "# Comparing models"
   ]
  },
  {
   "cell_type": "code",
   "execution_count": 69,
   "metadata": {},
   "outputs": [],
   "source": [
    "def compare_models(models_dict, x_test, ts_lab):\n",
    "    print('\\n----------Comparing Models---------')\n",
    "    print(\"Shape of x_test in compare_models:\", x_test.shape)\n",
    "    results = {}\n",
    "    for name, model in models_dict.items():\n",
    "        ts_pred = model.predict(x_test)\n",
    "        rmse = root_mean_squared_error(ts_lab, ts_pred)\n",
    "        mse = mean_squared_error(ts_lab, ts_pred)\n",
    "        mae = mean_absolute_error(ts_lab, ts_pred)\n",
    "        r2 = r2_score(ts_lab, ts_pred)\n",
    "        results[name] = {\n",
    "            'MSE': mse,\n",
    "            'RMSE': rmse,\n",
    "            'MAE': mae,\n",
    "            'R2': r2,\n",
    "            'Predictions': ts_pred\n",
    "        }\n",
    "    comparison = pd.DataFrame({\n",
    "        model_name: {\n",
    "            'MSE': result['MSE'],\n",
    "            'RMSE': result['RMSE'],\n",
    "            'MAE': result['MAE'],\n",
    "            'R2': result['R2']\n",
    "        }\n",
    "        for model_name, result in results.items()\n",
    "    }).T\n",
    "    comparison = comparison.sort_values('R2', ascending=False)\n",
    "    print(comparison)\n",
    "    best_model_name = comparison.index[0]\n",
    "    best_model = models_dict[best_model_name]\n",
    "    fig, axes = plt.subplots(1, 2, figsize=(12, 6))\n",
    "    sns.barplot(ax=axes[0], x=comparison.index, y='R2', data=comparison, palette='viridis')\n",
    "    axes[0].set_title('Model R2 Score Comparison')\n",
    "    axes[0].set_xlabel('Model')\n",
    "    axes[0].set_ylabel('R2 Score')\n",
    "    axes[0].tick_params(axis='x', rotation=45)\n",
    "    sns.barplot(ax=axes[1], x=comparison.index, y='RMSE', data=comparison, palette='magma')\n",
    "    axes[1].set_title('Model RMSE Comparison')\n",
    "    axes[1].set_xlabel('Model')\n",
    "    axes[1].set_ylabel('RMSE')\n",
    "    axes[1].tick_params(axis='x', rotation=45)\n",
    "    plt.show()\n",
    "    return comparison, results, best_model, best_model_name"
   ]
  },
  {
   "cell_type": "markdown",
   "metadata": {},
   "source": [
    "# Final Call for all Models"
   ]
  },
  {
   "cell_type": "code",
   "execution_count": 70,
   "metadata": {},
   "outputs": [
    {
     "name": "stdout",
     "output_type": "stream",
     "text": [
      "\n",
      "----------Building Linear Regression----------\n",
      "MSE: 28.6856\n",
      "RMSE: 5.3559\n",
      "MAE: 4.0901\n",
      "R2 Score: 0.2563\n",
      "\n",
      "----------Building Ridge Regression----------\n",
      "Fitting 3 folds for each of 12 candidates, totalling 36 fits\n",
      "Best Parameters: {'max_iter': 1000, 'alpha': 10.0}\n",
      "Best Cross-Validation Score (neg MSE): -28.2905\n",
      "MSE: 28.6856\n",
      "RMSE: 5.3559\n",
      "MAE: 4.0901\n",
      "R2 Score: 0.2563\n",
      "\n",
      "----------Building Lasso Regression----------\n",
      "Fitting 3 folds for each of 12 candidates, totalling 36 fits\n",
      "Best Parameters: {'max_iter': 1000, 'alpha': 0.001}\n",
      "Best Cross-Validation Score (neg MSE): -28.2904\n",
      "MSE: 28.6860\n",
      "RMSE: 5.3559\n",
      "MAE: 4.0900\n",
      "R2 Score: 0.2563\n",
      "\n",
      "----------Building Gradient Boosting Regression----------\n",
      "Shape of x_train in GradientBoosting: (105903, 12)\n",
      "Shape of x_test in GradientBoosting: (26476, 12)\n",
      "Fitting 3 folds for each of 20 candidates, totalling 60 fits\n",
      "Best Parameters: {'subsample': 0.7, 'n_estimators': 300, 'min_samples_split': 5, 'min_samples_leaf': 4, 'max_depth': 10, 'learning_rate': 0.05}\n",
      "Best Cross-Validation Score (neg MSE): -14.8645\n",
      "MSE: 14.0393\n",
      "RMSE: 3.7469\n",
      "MAE: 2.6364\n",
      "R2 Score: 0.6360\n",
      "\n",
      "----------Comparing Models---------\n",
      "Shape of x_test in compare_models: (26476, 12)\n",
      "                                    MSE      RMSE       MAE        R2\n",
      "Gradient Boosting Regression  14.039349  3.746912  2.636360  0.636024\n",
      "Linear Regression             28.685617  5.355896  4.090112  0.256313\n",
      "Ridge Regression              28.685628  5.355897  4.090097  0.256312\n",
      "Lasso Regression              28.686030  5.355934  4.090043  0.256302\n"
     ]
    },
    {
     "data": {
      "image/png": "[encoded data removed]",
      "text/plain": [
       "<Figure size 1200x600 with 2 Axes>"
      ]
     },
     "metadata": {},
     "output_type": "display_data"
    },
    {
     "name": "stdout",
     "output_type": "stream",
     "text": [
      "\n",
      "Best Model for Regression: Gradient Boosting Regression saved to 'best_model_reg.pkl'\n"
     ]
    }
   ],
   "source": [
    "def run_all_models(x_train, x_test, tr_lab, ts_lab):\n",
    "    lr = build_linear_regression(x_train, x_test, tr_lab, ts_lab)\n",
    "    ridge = build_ridge_regression(x_train, x_test, tr_lab, ts_lab)\n",
    "    lasso = build_lasso_regression(x_train, x_test, tr_lab, ts_lab)\n",
    "    gbr = build_gradient_boosting_regressor(x_train, x_test, tr_lab, ts_lab)\n",
    "    models = {\n",
    "        'Linear Regression': lr,\n",
    "        'Ridge Regression': ridge,\n",
    "        'Lasso Regression': lasso,\n",
    "        'Gradient Boosting Regression': gbr\n",
    "    }\n",
    "    comparison, results, best_model, best_model_name = compare_models(models, x_test, ts_lab)\n",
    "    pickle_path = r'D:\\Projects\\Mini_Projects\\Clickstream_customer_conversion\\Pickles'\n",
    "    os.makedirs(pickle_path, exist_ok=True)\n",
    "    best_model_reg = os.path.join(pickle_path, 'best_model_reg.pkl')\n",
    "    with open(best_model_reg, 'wb') as file:\n",
    "        pickle.dump(best_model, file)\n",
    "    print(f\"\\nBest Model for Regression: {best_model_name} saved to 'best_model_reg.pkl'\")\n",
    "    return models, comparison, results, best_model, best_model_name\n",
    "\n",
    "# Run all models\n",
    "models, comparison, results, best_model, best_model_name = run_all_models(x_train, x_test, tr_lab, ts_lab) "
   ]
  },
  {
   "cell_type": "code",
   "execution_count": 80,
   "metadata": {},
   "outputs": [
    {
     "name": "stdout",
     "output_type": "stream",
     "text": [
      "Alternative predictions: [46.61058632 53.86630986 41.58785185 ... 45.77056218 42.17322234\n",
      " 43.36699078]\n"
     ]
    }
   ],
   "source": [
    "# Example: Handle alternative prediction\n",
    "# Replace X_new with your actual alternative dataset\n",
    "X_new = pd.read_csv(\"D:\\Projects\\Mini_Projects\\Clickstream_customer_conversion\\Research_Data\\processed_data.csv\") \n",
    "X_new = X_new[selected]  # Select the same features\n",
    "X_new_scaled = scaler.transform(X_new)  # Apply the same scaler\n",
    "prediction = best_model.predict(X_new_scaled)\n",
    "print(\"Alternative predictions:\", prediction) "
   ]
  },
  {
   "cell_type": "code",
   "execution_count": 81,
   "metadata": {},
   "outputs": [
    {
     "ename": "ValueError",
     "evalue": "The feature names should match those that were passed during fit.\nFeature names must be in the same order as they were in fit.\n",
     "output_type": "error",
     "traceback": [
      "\u001b[1;31m---------------------------------------------------------------------------\u001b[0m",
      "\u001b[1;31mValueError\u001b[0m                                Traceback (most recent call last)",
      "Cell \u001b[1;32mIn[81], line 29\u001b[0m\n\u001b[0;32m     26\u001b[0m X_new \u001b[38;5;241m=\u001b[39m X_new\u001b[38;5;241m.\u001b[39mfillna(X_new\u001b[38;5;241m.\u001b[39mmean())\n\u001b[0;32m     28\u001b[0m \u001b[38;5;66;03m# Scale the features using the same scaler\u001b[39;00m\n\u001b[1;32m---> 29\u001b[0m X_new_scaled \u001b[38;5;241m=\u001b[39m \u001b[43mscaler\u001b[49m\u001b[38;5;241;43m.\u001b[39;49m\u001b[43mtransform\u001b[49m\u001b[43m(\u001b[49m\u001b[43mX_new\u001b[49m\u001b[43m)\u001b[49m\n\u001b[0;32m     31\u001b[0m \u001b[38;5;66;03m# Make predictions\u001b[39;00m\n\u001b[0;32m     32\u001b[0m predictions \u001b[38;5;241m=\u001b[39m best_model\u001b[38;5;241m.\u001b[39mpredict(X_new_scaled)\n",
      "File \u001b[1;32mc:\\Users\\sarav\\AppData\\Local\\Programs\\Python\\Python311\\Lib\\site-packages\\sklearn\\utils\\_set_output.py:319\u001b[0m, in \u001b[0;36m_wrap_method_output.<locals>.wrapped\u001b[1;34m(self, X, *args, **kwargs)\u001b[0m\n\u001b[0;32m    317\u001b[0m \u001b[38;5;129m@wraps\u001b[39m(f)\n\u001b[0;32m    318\u001b[0m \u001b[38;5;28;01mdef\u001b[39;00m \u001b[38;5;21mwrapped\u001b[39m(\u001b[38;5;28mself\u001b[39m, X, \u001b[38;5;241m*\u001b[39margs, \u001b[38;5;241m*\u001b[39m\u001b[38;5;241m*\u001b[39mkwargs):\n\u001b[1;32m--> 319\u001b[0m     data_to_wrap \u001b[38;5;241m=\u001b[39m \u001b[43mf\u001b[49m\u001b[43m(\u001b[49m\u001b[38;5;28;43mself\u001b[39;49m\u001b[43m,\u001b[49m\u001b[43m \u001b[49m\u001b[43mX\u001b[49m\u001b[43m,\u001b[49m\u001b[43m \u001b[49m\u001b[38;5;241;43m*\u001b[39;49m\u001b[43margs\u001b[49m\u001b[43m,\u001b[49m\u001b[43m \u001b[49m\u001b[38;5;241;43m*\u001b[39;49m\u001b[38;5;241;43m*\u001b[39;49m\u001b[43mkwargs\u001b[49m\u001b[43m)\u001b[49m\n\u001b[0;32m    320\u001b[0m     \u001b[38;5;28;01mif\u001b[39;00m \u001b[38;5;28misinstance\u001b[39m(data_to_wrap, \u001b[38;5;28mtuple\u001b[39m):\n\u001b[0;32m    321\u001b[0m         \u001b[38;5;66;03m# only wrap the first output for cross decomposition\u001b[39;00m\n\u001b[0;32m    322\u001b[0m         return_tuple \u001b[38;5;241m=\u001b[39m (\n\u001b[0;32m    323\u001b[0m             _wrap_data_with_container(method, data_to_wrap[\u001b[38;5;241m0\u001b[39m], X, \u001b[38;5;28mself\u001b[39m),\n\u001b[0;32m    324\u001b[0m             \u001b[38;5;241m*\u001b[39mdata_to_wrap[\u001b[38;5;241m1\u001b[39m:],\n\u001b[0;32m    325\u001b[0m         )\n",
      "File \u001b[1;32mc:\\Users\\sarav\\AppData\\Local\\Programs\\Python\\Python311\\Lib\\site-packages\\sklearn\\preprocessing\\_data.py:1062\u001b[0m, in \u001b[0;36mStandardScaler.transform\u001b[1;34m(self, X, copy)\u001b[0m\n\u001b[0;32m   1059\u001b[0m check_is_fitted(\u001b[38;5;28mself\u001b[39m)\n\u001b[0;32m   1061\u001b[0m copy \u001b[38;5;241m=\u001b[39m copy \u001b[38;5;28;01mif\u001b[39;00m copy \u001b[38;5;129;01mis\u001b[39;00m \u001b[38;5;129;01mnot\u001b[39;00m \u001b[38;5;28;01mNone\u001b[39;00m \u001b[38;5;28;01melse\u001b[39;00m \u001b[38;5;28mself\u001b[39m\u001b[38;5;241m.\u001b[39mcopy\n\u001b[1;32m-> 1062\u001b[0m X \u001b[38;5;241m=\u001b[39m \u001b[43mvalidate_data\u001b[49m\u001b[43m(\u001b[49m\n\u001b[0;32m   1063\u001b[0m \u001b[43m    \u001b[49m\u001b[38;5;28;43mself\u001b[39;49m\u001b[43m,\u001b[49m\n\u001b[0;32m   1064\u001b[0m \u001b[43m    \u001b[49m\u001b[43mX\u001b[49m\u001b[43m,\u001b[49m\n\u001b[0;32m   1065\u001b[0m \u001b[43m    \u001b[49m\u001b[43mreset\u001b[49m\u001b[38;5;241;43m=\u001b[39;49m\u001b[38;5;28;43;01mFalse\u001b[39;49;00m\u001b[43m,\u001b[49m\n\u001b[0;32m   1066\u001b[0m \u001b[43m    \u001b[49m\u001b[43maccept_sparse\u001b[49m\u001b[38;5;241;43m=\u001b[39;49m\u001b[38;5;124;43m\"\u001b[39;49m\u001b[38;5;124;43mcsr\u001b[39;49m\u001b[38;5;124;43m\"\u001b[39;49m\u001b[43m,\u001b[49m\n\u001b[0;32m   1067\u001b[0m \u001b[43m    \u001b[49m\u001b[43mcopy\u001b[49m\u001b[38;5;241;43m=\u001b[39;49m\u001b[43mcopy\u001b[49m\u001b[43m,\u001b[49m\n\u001b[0;32m   1068\u001b[0m \u001b[43m    \u001b[49m\u001b[43mdtype\u001b[49m\u001b[38;5;241;43m=\u001b[39;49m\u001b[43mFLOAT_DTYPES\u001b[49m\u001b[43m,\u001b[49m\n\u001b[0;32m   1069\u001b[0m \u001b[43m    \u001b[49m\u001b[43mforce_writeable\u001b[49m\u001b[38;5;241;43m=\u001b[39;49m\u001b[38;5;28;43;01mTrue\u001b[39;49;00m\u001b[43m,\u001b[49m\n\u001b[0;32m   1070\u001b[0m \u001b[43m    \u001b[49m\u001b[43mensure_all_finite\u001b[49m\u001b[38;5;241;43m=\u001b[39;49m\u001b[38;5;124;43m\"\u001b[39;49m\u001b[38;5;124;43mallow-nan\u001b[39;49m\u001b[38;5;124;43m\"\u001b[39;49m\u001b[43m,\u001b[49m\n\u001b[0;32m   1071\u001b[0m \u001b[43m\u001b[49m\u001b[43m)\u001b[49m\n\u001b[0;32m   1073\u001b[0m \u001b[38;5;28;01mif\u001b[39;00m sparse\u001b[38;5;241m.\u001b[39missparse(X):\n\u001b[0;32m   1074\u001b[0m     \u001b[38;5;28;01mif\u001b[39;00m \u001b[38;5;28mself\u001b[39m\u001b[38;5;241m.\u001b[39mwith_mean:\n",
      "File \u001b[1;32mc:\\Users\\sarav\\AppData\\Local\\Programs\\Python\\Python311\\Lib\\site-packages\\sklearn\\utils\\validation.py:2919\u001b[0m, in \u001b[0;36mvalidate_data\u001b[1;34m(_estimator, X, y, reset, validate_separately, skip_check_array, **check_params)\u001b[0m\n\u001b[0;32m   2835\u001b[0m \u001b[38;5;28;01mdef\u001b[39;00m \u001b[38;5;21mvalidate_data\u001b[39m(\n\u001b[0;32m   2836\u001b[0m     _estimator,\n\u001b[0;32m   2837\u001b[0m     \u001b[38;5;241m/\u001b[39m,\n\u001b[1;32m   (...)\u001b[0m\n\u001b[0;32m   2843\u001b[0m     \u001b[38;5;241m*\u001b[39m\u001b[38;5;241m*\u001b[39mcheck_params,\n\u001b[0;32m   2844\u001b[0m ):\n\u001b[0;32m   2845\u001b[0m \u001b[38;5;250m    \u001b[39m\u001b[38;5;124;03m\"\"\"Validate input data and set or check feature names and counts of the input.\u001b[39;00m\n\u001b[0;32m   2846\u001b[0m \n\u001b[0;32m   2847\u001b[0m \u001b[38;5;124;03m    This helper function should be used in an estimator that requires input\u001b[39;00m\n\u001b[1;32m   (...)\u001b[0m\n\u001b[0;32m   2917\u001b[0m \u001b[38;5;124;03m        validated.\u001b[39;00m\n\u001b[0;32m   2918\u001b[0m \u001b[38;5;124;03m    \"\"\"\u001b[39;00m\n\u001b[1;32m-> 2919\u001b[0m     \u001b[43m_check_feature_names\u001b[49m\u001b[43m(\u001b[49m\u001b[43m_estimator\u001b[49m\u001b[43m,\u001b[49m\u001b[43m \u001b[49m\u001b[43mX\u001b[49m\u001b[43m,\u001b[49m\u001b[43m \u001b[49m\u001b[43mreset\u001b[49m\u001b[38;5;241;43m=\u001b[39;49m\u001b[43mreset\u001b[49m\u001b[43m)\u001b[49m\n\u001b[0;32m   2920\u001b[0m     tags \u001b[38;5;241m=\u001b[39m get_tags(_estimator)\n\u001b[0;32m   2921\u001b[0m     \u001b[38;5;28;01mif\u001b[39;00m y \u001b[38;5;129;01mis\u001b[39;00m \u001b[38;5;28;01mNone\u001b[39;00m \u001b[38;5;129;01mand\u001b[39;00m tags\u001b[38;5;241m.\u001b[39mtarget_tags\u001b[38;5;241m.\u001b[39mrequired:\n",
      "File \u001b[1;32mc:\\Users\\sarav\\AppData\\Local\\Programs\\Python\\Python311\\Lib\\site-packages\\sklearn\\utils\\validation.py:2777\u001b[0m, in \u001b[0;36m_check_feature_names\u001b[1;34m(estimator, X, reset)\u001b[0m\n\u001b[0;32m   2774\u001b[0m \u001b[38;5;28;01mif\u001b[39;00m \u001b[38;5;129;01mnot\u001b[39;00m missing_names \u001b[38;5;129;01mand\u001b[39;00m \u001b[38;5;129;01mnot\u001b[39;00m unexpected_names:\n\u001b[0;32m   2775\u001b[0m     message \u001b[38;5;241m+\u001b[39m\u001b[38;5;241m=\u001b[39m \u001b[38;5;124m\"\u001b[39m\u001b[38;5;124mFeature names must be in the same order as they were in fit.\u001b[39m\u001b[38;5;130;01m\\n\u001b[39;00m\u001b[38;5;124m\"\u001b[39m\n\u001b[1;32m-> 2777\u001b[0m \u001b[38;5;28;01mraise\u001b[39;00m \u001b[38;5;167;01mValueError\u001b[39;00m(message)\n",
      "\u001b[1;31mValueError\u001b[0m: The feature names should match those that were passed during fit.\nFeature names must be in the same order as they were in fit.\n"
     ]
    }
   ],
   "source": [
    "import pandas as pd\n",
    "import numpy as np\n",
    "\n",
    "# Assuming best_model and scaler are already defined (e.g., from Streamlit app)\n",
    "# If not, you need to load them, e.g.:\n",
    "# from joblib import load\n",
    "# best_model = load('path_to_model.joblib')\n",
    "# scaler = load('path_to_scaler.joblib')\n",
    "\n",
    "# Load the alternative dataset\n",
    "X_new = pd.read_csv(\"D:\\Projects\\Mini_Projects\\Clickstream_customer_conversion\\Research_Data\\processed_data.csv\")\n",
    "\n",
    "# Select the same features used in model training (excluding target 'avg_price')\n",
    "# Adjust this list based on your model's expected features\n",
    "selected_features = [col for col in X_new.columns if col != 'avg_price']\n",
    "\n",
    "# Ensure all required features are present\n",
    "missing_features = [col for col in selected_features if col not in X_new.columns]\n",
    "if missing_features:\n",
    "    raise ValueError(f\"Missing features in dataset: {missing_features}\")\n",
    "\n",
    "# Select features\n",
    "X_new = X_new[selected_features]\n",
    "\n",
    "# Handle missing values (if any)\n",
    "X_new = X_new.fillna(X_new.mean())\n",
    "\n",
    "# Scale the features using the same scaler\n",
    "X_new_scaled = scaler.transform(X_new)\n",
    "\n",
    "# Make predictions\n",
    "predictions = best_model.predict(X_new_scaled)\n",
    "\n",
    "# Calculate total prediction amount\n",
    "total_prediction_amount = np.sum(predictions)\n",
    "\n",
    "# Output results\n",
    "print(\"Individual predictions:\", predictions)\n",
    "print(\"Total prediction amount:\", total_prediction_amount)"
   ]
  },
  {
   "cell_type": "code",
   "execution_count": 71,
   "metadata": {},
   "outputs": [],
   "source": [
    "# x_train = scaler.fit_transform(x_train)\n",
    "# x_test = scaler.transform(x_test)"
   ]
  },
  {
   "cell_type": "markdown",
   "metadata": {},
   "source": [
    "# Linear Regression"
   ]
  },
  {
   "cell_type": "code",
   "execution_count": 72,
   "metadata": {},
   "outputs": [],
   "source": [
    "# def build_linear_regression(x_train, x_test, tr_lab, ts_lab):\n",
    "\n",
    "#     print('\\n----------Building Linear Regression----------')\n",
    "\n",
    "#     lr = LinearRegression()\n",
    "\n",
    "#     lr.fit(x_train, tr_lab)\n",
    "\n",
    "#     ts_pred = lr.predict(x_test)\n",
    "\n",
    "#     rmse = root_mean_squared_error(ts_lab, ts_pred)\n",
    "#     mse = mean_squared_error(ts_lab, ts_pred)\n",
    "#     mae = mean_absolute_error(ts_lab, ts_pred)\n",
    "#     r2 = r2_score(ts_lab, ts_pred)\n",
    "\n",
    "#     print(f\"MSE: {mse:.4f}\")\n",
    "#     print(f\"RMSE: {rmse:.4f}\")\n",
    "#     print(f\"MAE: {mae:.4f}\")\n",
    "#     print(f\"R2 Score: {r2:.4f}\")\n",
    "\n",
    "#     return lr"
   ]
  },
  {
   "cell_type": "markdown",
   "metadata": {},
   "source": [
    "# Ridge Regression"
   ]
  },
  {
   "cell_type": "code",
   "execution_count": 73,
   "metadata": {},
   "outputs": [],
   "source": [
    "# def build_ridge_regression(x_train, x_test, tr_lab, ts_lab):\n",
    "\n",
    "#     print('\\n----------Building Ridge Regression----------')\n",
    "\n",
    "#     param_grid = {\n",
    "#         'alpha': [0.001, 0.01, 0.1, 1.0, 10.0, 100.0],\n",
    "#         'max_iter': [1000, 2000]\n",
    "#     }\n",
    "\n",
    "#     ridge = Ridge(random_state = 65)\n",
    "\n",
    "#     random_search = RandomizedSearchCV(\n",
    "#         ridge,\n",
    "#         param_grid,\n",
    "#         n_iter = 20,\n",
    "#         cv = 3,\n",
    "#         scoring = 'neg_mean_squared_error',\n",
    "#         n_jobs = 1,\n",
    "#         verbose = 1\n",
    "#     )\n",
    "\n",
    "#     random_search.fit(x_train, tr_lab)\n",
    "\n",
    "#     best_model = random_search.best_estimator_\n",
    "\n",
    "#     ts_pred = best_model.predict(x_test)\n",
    "\n",
    "#     rmse = root_mean_squared_error(ts_lab, ts_pred)\n",
    "#     mse = mean_squared_error(ts_lab, ts_pred)\n",
    "#     mae = mean_absolute_error(ts_lab, ts_pred)\n",
    "#     r2 = r2_score(ts_lab, ts_pred)\n",
    "\n",
    "#     print(f\"Best Parameters: {random_search.best_params_}\")\n",
    "#     print(f\"Best Cross-Validation Score (neg MSE): {random_search.best_score_:.4f}\")\n",
    "#     print(f\"MSE: {mse:.4f}\")\n",
    "#     print(f\"RMSE: {rmse:.4f}\")\n",
    "#     print(f\"MAE: {mae:.4f}\")\n",
    "#     print(f\"R2 Score: {r2:.4f}\")\n",
    "\n",
    "#     return best_model"
   ]
  },
  {
   "cell_type": "markdown",
   "metadata": {},
   "source": [
    "# Lasso Regression"
   ]
  },
  {
   "cell_type": "code",
   "execution_count": 74,
   "metadata": {},
   "outputs": [],
   "source": [
    "# def build_lasso_regression(x_train, x_test, tr_lab, ts_lab):\n",
    "\n",
    "#     print('\\n----------Building Lasso Regression----------')\n",
    "\n",
    "#     param_grid = {\n",
    "#         'alpha': [0.0001, 0.001, 0.01, 0.1, 1.0, 10.0],\n",
    "#         'max_iter': [1000, 2000]\n",
    "#     }\n",
    "\n",
    "#     lasso = Lasso(random_state = 65)\n",
    "\n",
    "#     random_search = RandomizedSearchCV(\n",
    "#         lasso,\n",
    "#         param_grid,\n",
    "#         n_iter = 20,\n",
    "#         cv = 3,\n",
    "#         scoring = 'neg_mean_squared_error',\n",
    "#         n_jobs = 1,\n",
    "#         verbose = 1\n",
    "#     )\n",
    "\n",
    "#     random_search.fit(x_train, tr_lab)\n",
    "\n",
    "#     best_model = random_search.best_estimator_\n",
    "\n",
    "#     ts_pred = best_model.predict(x_test)\n",
    "\n",
    "#     rmse = root_mean_squared_error(ts_lab, ts_pred)\n",
    "#     mse = mean_squared_error(ts_lab, ts_pred)\n",
    "#     mae = mean_absolute_error(ts_lab, ts_pred)\n",
    "#     r2 = r2_score(ts_lab, ts_pred)\n",
    "\n",
    "#     print(f\"Best Parameters: {random_search.best_params_}\")\n",
    "#     print(f\"Best Cross-Validation Score (neg MSE): {random_search.best_score_:.4f}\")\n",
    "#     print(f\"MSE: {mse:.4f}\")\n",
    "#     print(f\"RMSE: {rmse:.4f}\")\n",
    "#     print(f\"MAE: {mae:.4f}\")\n",
    "#     print(f\"R2 Score: {r2:.4f}\")\n",
    "\n",
    "#     return best_model"
   ]
  },
  {
   "cell_type": "markdown",
   "metadata": {},
   "source": [
    "# Gradient Boosting"
   ]
  },
  {
   "cell_type": "code",
   "execution_count": 75,
   "metadata": {},
   "outputs": [],
   "source": [
    "# def build_gradient_boosting_regressor(x_train, x_test, tr_lab, ts_lab):\n",
    "\n",
    "#     print('\\n----------Building Gradient Boosting Regression----------')\n",
    "\n",
    "#     param_grid = {\n",
    "#         'n_estimators': [100, 200, 300],  \n",
    "#         'learning_rate': [0.01, 0.05, 0.1, 0.2],  \n",
    "#         'max_depth': [3, 5, 7, 10],  \n",
    "#         'subsample': [0.7, 0.8, 1.0],  \n",
    "#         'min_samples_split': [2, 5, 10],  \n",
    "#         'min_samples_leaf': [1, 2, 4]  \n",
    "#     }\n",
    "\n",
    "#     gbr = GradientBoostingRegressor(random_state=65, warm_start = True)\n",
    "\n",
    "#     random_search = RandomizedSearchCV(\n",
    "#         gbr,\n",
    "#         param_grid,\n",
    "#         n_iter = 20,\n",
    "#         cv=3,\n",
    "#         scoring='neg_mean_squared_error',\n",
    "#         n_jobs = 1,\n",
    "#         verbose = 1\n",
    "#     )\n",
    "\n",
    "#     random_search.fit(x_train, tr_lab)\n",
    "\n",
    "#     best_model = random_search.best_estimator_\n",
    "\n",
    "#     ts_pred = best_model.predict(x_test)\n",
    "\n",
    "#     rmse = root_mean_squared_error(ts_lab, ts_pred)\n",
    "#     mse = mean_squared_error(ts_lab, ts_pred)\n",
    "#     mae = mean_absolute_error(ts_lab, ts_pred)\n",
    "#     r2 = r2_score(ts_lab, ts_pred)\n",
    "\n",
    "#     print(f\"Best Parameters: {random_search.best_params_}\")\n",
    "#     print(f\"Best Cross-Validation Score (neg MSE): {random_search.best_score_:.4f}\")\n",
    "#     print(f\"MSE: {mse:.4f}\")\n",
    "#     print(f\"RMSE: {rmse:.4f}\")\n",
    "#     print(f\"MAE: {mae:.4f}\")\n",
    "#     print(f\"R2 Score: {r2:.4f}\")\n",
    "\n",
    "#     return best_model"
   ]
  },
  {
   "cell_type": "markdown",
   "metadata": {},
   "source": [
    "# Comparing Models"
   ]
  },
  {
   "cell_type": "code",
   "execution_count": 76,
   "metadata": {},
   "outputs": [],
   "source": [
    "# def compare_models(models_dict, x_test, ts_lab):\n",
    "\n",
    "#     print('\\n----------Comparing Models---------')\n",
    "\n",
    "#     results = {}\n",
    "\n",
    "#     for name, model in models_dict.items():\n",
    "        \n",
    "#         ts_pred = model.predict(x_test)\n",
    "\n",
    "#         rmse = root_mean_squared_error(ts_lab, ts_pred)\n",
    "#         mse = mean_squared_error(ts_lab, ts_pred)\n",
    "#         mae = mean_absolute_error(ts_lab, ts_pred)\n",
    "#         r2 = r2_score(ts_lab, ts_pred)\n",
    "\n",
    "#         results[name] = {\n",
    "#             'MSE': mse,\n",
    "#             'RMSE': rmse,\n",
    "#             'MAE': mae,\n",
    "#             'R2': r2,\n",
    "#             'Predictions': ts_pred\n",
    "#         }\n",
    "\n",
    "#         comparison = pd.DataFrame({\n",
    "#         model_name: {\n",
    "#             'MSE': result['MSE'],\n",
    "#             'RMSE': result['RMSE'],\n",
    "#             'MAE': result['MAE'],\n",
    "#             'R2': result['R2']\n",
    "#         }\n",
    "#         for model_name, result in results.items()\n",
    "#     }).T\n",
    "        \n",
    "#     comparison = comparison.sort_values('R2', ascending=False)    \n",
    "\n",
    "#     print(comparison)\n",
    "\n",
    "#     best_model_name = comparison.index[0]\n",
    "\n",
    "#     best_model = models_dict[best_model_name]\n",
    "\n",
    "#     fig, axes = plt.subplots(1, 2, figsize=(12, 6))    \n",
    "\n",
    "#     sns.barplot(ax=axes[0], x=comparison.index, y='R2', data=comparison, palette='viridis')\n",
    "#     axes[0].set_title('Model R2 Score Comparison')\n",
    "#     axes[0].set_xlabel('Model')\n",
    "#     axes[0].set_ylabel('R2 Score')\n",
    "#     axes[0].tick_params(axis='x', rotation=45)\n",
    "    \n",
    "#     sns.barplot(ax=axes[1], x=comparison.index, y='RMSE', data=comparison, palette='magma')\n",
    "#     axes[1].set_title('Model RMSE Comparison')\n",
    "#     axes[1].set_xlabel('Model')\n",
    "#     axes[1].set_ylabel('RMSE')\n",
    "#     axes[1].tick_params(axis='x', rotation=45)\n",
    "    \n",
    "#     fig.show()\n",
    "\n",
    "#     return comparison, results, best_model, best_model_name"
   ]
  },
  {
   "cell_type": "markdown",
   "metadata": {},
   "source": [
    "# Final Call"
   ]
  },
  {
   "cell_type": "code",
   "execution_count": 77,
   "metadata": {},
   "outputs": [],
   "source": [
    "# def run_all_models(x_train, x_test, tr_lab, ts_lab):\n",
    "\n",
    "#     lr = build_linear_regression(x_train, x_test, tr_lab, ts_lab)\n",
    "#     ridge = build_ridge_regression(x_train, x_test, tr_lab, ts_lab)\n",
    "#     lasso = build_lasso_regression(x_train, x_test, tr_lab, ts_lab)\n",
    "#     gbr = build_gradient_boosting_regressor(x_train, x_test, tr_lab, ts_lab)\n",
    "\n",
    "#     models = {\n",
    "#         'Linear Regression': lr,\n",
    "#         'Ridge Regression': ridge,\n",
    "#         'Lasso Regression': lasso,\n",
    "#         'Gradient Boosting Regression': gbr\n",
    "#     }\n",
    "\n",
    "#     comparison, results, best_model, best_model_name = compare_models(models, x_test, ts_lab)\n",
    "\n",
    "#     pickle_path = r'D:\\Projects\\Mini_Projects\\Clickstream_customer_conversion\\Pickles'\n",
    "\n",
    "#     os.makedirs(pickle_path, exist_ok=True)\n",
    "\n",
    "#     best_model_reg = os.path.join(pickle_path, 'best_model_reg.pkl')\n",
    "\n",
    "#     with open(best_model_reg, 'wb') as file:\n",
    "#         pickle.dump(best_model, file)\n",
    "\n",
    "#     print(f\"\\nBest Model for Regression: {best_model_name} saved to 'best_model_reg.pkl'\")\n",
    "\n",
    "#     return models, comparison, results, best_model, best_model_name"
   ]
  },
  {
   "cell_type": "code",
   "execution_count": 78,
   "metadata": {},
   "outputs": [],
   "source": [
    "# models, comparison, results, best_model, best_model_name = run_all_models(x_train, x_test, tr_lab, ts_lab)"
   ]
  },
  {
   "cell_type": "code",
   "execution_count": null,
   "metadata": {},
   "outputs": [],
   "source": [
    "# Example: Handle alternative prediction\n",
    "# Replace X_new with your actual alternative dataset\n",
    "# X_new = pd.read_csv(\"path_to_alternative_data.csv\")  # Example\n",
    "# X_new = X_new[selected]  # Select the same features\n",
    "# X_new_scaled = scaler.transform(X_new)  # Apply the same scaler\n",
    "# prediction = best_model.predict(X_new_scaled)\n",
    "# print(\"Alternative predictions:\", prediction)"
   ]
  }
 ],
 "metadata": {
  "kernelspec": {
   "display_name": "Python 3",
   "language": "python",
   "name": "python3"
  },
  "language_info": {
   "codemirror_mode": {
    "name": "ipython",
    "version": 3
   },
   "file_extension": ".py",
   "mimetype": "text/x-python",
   "name": "python",
   "nbconvert_exporter": "python",
   "pygments_lexer": "ipython3",
   "version": "3.11.5"
  }
 },
 "nbformat": 4,
 "nbformat_minor": 2
}
